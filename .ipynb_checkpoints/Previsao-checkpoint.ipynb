{
 "cells": [
  {
   "cell_type": "code",
   "execution_count": 1,
   "metadata": {
    "ExecuteTime": {
     "end_time": "2021-03-29T03:16:31.244237Z",
     "start_time": "2021-03-29T03:16:31.021582Z"
    }
   },
   "outputs": [],
   "source": [
    "#importacoes\n",
    "import requests\n",
    "from bs4 import BeautifulSoup"
   ]
  },
  {
   "cell_type": "code",
   "execution_count": 2,
   "metadata": {
    "ExecuteTime": {
     "end_time": "2021-03-29T03:16:31.259716Z",
     "start_time": "2021-03-29T03:16:31.244237Z"
    }
   },
   "outputs": [],
   "source": [
    "cod = {'São Paulo':244, 'Rio de Janeiro':241, 'Belo Horizonte':222, 'Barueri':797}\n",
    "cidade = {1:'São Paulo', 2: 'Rio de Janeiro', 3:'Belo Horizonte', 4:'Barueri'}"
   ]
  },
  {
   "cell_type": "code",
   "execution_count": 3,
   "metadata": {
    "ExecuteTime": {
     "end_time": "2021-03-29T03:16:32.078456Z",
     "start_time": "2021-03-29T03:16:31.262076Z"
    }
   },
   "outputs": [
    {
     "name": "stdout",
     "output_type": "stream",
     "text": [
      "Digite o numero da cidade para saber a maxima e minima: \n",
      "1 - São Paulo\n",
      "2 - Rios de Janeiro\n",
      "3 - Belo Horizonte\n",
      "4 - Barueri\n",
      "===========================================================================\n",
      "1\n"
     ]
    }
   ],
   "source": [
    "print('Digite o numero da cidade para saber a maxima e minima: ')\n",
    "print('1 - São Paulo')\n",
    "print('2 - Rios de Janeiro')\n",
    "print('3 - Belo Horizonte')\n",
    "print('4 - Barueri')\n",
    "print('='*75)\n",
    "escolha = int(input())"
   ]
  },
  {
   "cell_type": "code",
   "execution_count": 4,
   "metadata": {
    "ExecuteTime": {
     "end_time": "2021-03-29T03:16:32.094610Z",
     "start_time": "2021-03-29T03:16:32.080479Z"
    }
   },
   "outputs": [],
   "source": [
    "url = f'http://servicos.cptec.inpe.br/XML/cidade/{cod.get(cidade.get(escolha))}/previsao.xml'"
   ]
  },
  {
   "cell_type": "code",
   "execution_count": 5,
   "metadata": {
    "ExecuteTime": {
     "end_time": "2021-03-29T03:16:32.143147Z",
     "start_time": "2021-03-29T03:16:32.095612Z"
    }
   },
   "outputs": [],
   "source": [
    "r = requests.get(url)\n",
    "soup = BeautifulSoup(r.text, 'html.parser')"
   ]
  },
  {
   "cell_type": "code",
   "execution_count": 6,
   "metadata": {
    "ExecuteTime": {
     "end_time": "2021-03-29T03:16:32.158857Z",
     "start_time": "2021-03-29T03:16:32.144000Z"
    }
   },
   "outputs": [],
   "source": [
    "maxima = soup.find('maxima').string\n",
    "minima = soup.find('minima').string"
   ]
  },
  {
   "cell_type": "code",
   "execution_count": 7,
   "metadata": {
    "ExecuteTime": {
     "end_time": "2021-03-29T03:16:32.174872Z",
     "start_time": "2021-03-29T03:16:32.160851Z"
    }
   },
   "outputs": [
    {
     "name": "stdout",
     "output_type": "stream",
     "text": [
      "A maxima de São Paulo é 30ºC e a minima é 22ºC\n"
     ]
    }
   ],
   "source": [
    "#devolucao de resultado\n",
    "print(f'A maxima de {cidade.get(escolha)} é {maxima}ºC e a minima é {minima}ºC')"
   ]
  }
 ],
 "metadata": {
  "kernelspec": {
   "display_name": "Python 3",
   "language": "python",
   "name": "python3"
  },
  "language_info": {
   "codemirror_mode": {
    "name": "ipython",
    "version": 3
   },
   "file_extension": ".py",
   "mimetype": "text/x-python",
   "name": "python",
   "nbconvert_exporter": "python",
   "pygments_lexer": "ipython3",
   "version": "3.7.6"
  },
  "toc": {
   "base_numbering": 1,
   "nav_menu": {},
   "number_sections": true,
   "sideBar": true,
   "skip_h1_title": false,
   "title_cell": "Table of Contents",
   "title_sidebar": "Contents",
   "toc_cell": false,
   "toc_position": {},
   "toc_section_display": true,
   "toc_window_display": false
  },
  "varInspector": {
   "cols": {
    "lenName": 16,
    "lenType": 16,
    "lenVar": 40
   },
   "kernels_config": {
    "python": {
     "delete_cmd_postfix": "",
     "delete_cmd_prefix": "del ",
     "library": "var_list.py",
     "varRefreshCmd": "print(var_dic_list())"
    },
    "r": {
     "delete_cmd_postfix": ") ",
     "delete_cmd_prefix": "rm(",
     "library": "var_list.r",
     "varRefreshCmd": "cat(var_dic_list()) "
    }
   },
   "types_to_exclude": [
    "module",
    "function",
    "builtin_function_or_method",
    "instance",
    "_Feature"
   ],
   "window_display": false
  }
 },
 "nbformat": 4,
 "nbformat_minor": 4
}
