{
 "cells": [
  {
   "cell_type": "code",
   "execution_count": 1,
   "metadata": {},
   "outputs": [],
   "source": [
    "#importacoes\n",
    "import requests\n",
    "from bs4 import BeautifulSoup\n",
    "import xml.etree.ElementTree as ET"
   ]
  },
  {
   "cell_type": "code",
   "execution_count": 2,
   "metadata": {},
   "outputs": [
    {
     "name": "stdout",
     "output_type": "stream",
     "text": [
      "Digite o numero da cidade que quer saber a previsao:\n",
      "1 - São Paulo\n",
      "2 - Rio de Janeiro\n",
      "3 - Belo Horizonte\n",
      "4 - Barueri\n",
      "1\n"
     ]
    }
   ],
   "source": [
    "#painel\n",
    "cidade = int(input('Digite o numero da cidade que quer saber a previsao:\\n1 - São Paulo\\n2 - Rio de Janeiro\\n3 - Belo Horizonte\\n4 - Barueri\\n'))\n",
    "\n",
    "if cidade == 1:\n",
    "    x = 'São Paulo'\n",
    "    url = ('http://servicos.cptec.inpe.br/XML/cidade/244/previsao.xml')\n",
    "elif cidade == 2:\n",
    "    x = 'Rio de Janeiro'\n",
    "    url = ('http://servicos.cptec.inpe.br/XML/cidade/241/previsao.xml')\n",
    "elif cidade == 3:\n",
    "    x = 'Belo Horizonte'\n",
    "    url = ('http://servicos.cptec.inpe.br/XML/cidade/222/previsao.xml')\n",
    "else:\n",
    "    x = 'Barueri'\n",
    "    url = ('http://servicos.cptec.inpe.br/XML/cidade/797/previsao.xml')"
   ]
  },
  {
   "cell_type": "code",
   "execution_count": 3,
   "metadata": {},
   "outputs": [],
   "source": [
    "#requisicao com requests e escrevendo em um aquivo\n",
    "r = requests.get(url)\n",
    "with open('../previsao.xml','w') as previ:\n",
    "    previ.write(r.text)"
   ]
  },
  {
   "cell_type": "code",
   "execution_count": 4,
   "metadata": {},
   "outputs": [],
   "source": [
    "#passando o xml para html\n",
    "tree = ET.parse('../previsao.xml')\n",
    "root = tree.getroot()\n",
    "\n",
    "a = ET.tostring(root, encoding='utf8').decode('utf8')\n",
    "with open('../previsao2.html','w') as b:\n",
    "    b.write(a)\n"
   ]
  },
  {
   "cell_type": "code",
   "execution_count": 5,
   "metadata": {},
   "outputs": [],
   "source": [
    "#pegando o arquivo html lendo e separando as variaveis que vamos usar:\n",
    "with open('../previsao2.html','r') as b:\n",
    "    soup = BeautifulSoup(b, 'html.parser')\n",
    "\n",
    "maxima = soup.maxima.text\n",
    "minima = soup.minima.text"
   ]
  },
  {
   "cell_type": "code",
   "execution_count": 6,
   "metadata": {},
   "outputs": [
    {
     "name": "stdout",
     "output_type": "stream",
     "text": [
      "A maxima de São Paulo é 26ºC e a minima é 18ºC\n"
     ]
    }
   ],
   "source": [
    "#devolucao de resultado\n",
    "print(f'A maxima de {x} é {maxima}ºC e a minima é {minima}ºC')"
   ]
  }
 ],
 "metadata": {
  "kernelspec": {
   "display_name": "Python 3",
   "language": "python",
   "name": "python3"
  },
  "language_info": {
   "codemirror_mode": {
    "name": "ipython",
    "version": 3
   },
   "file_extension": ".py",
   "mimetype": "text/x-python",
   "name": "python",
   "nbconvert_exporter": "python",
   "pygments_lexer": "ipython3",
   "version": "3.7.6"
  }
 },
 "nbformat": 4,
 "nbformat_minor": 4
}
